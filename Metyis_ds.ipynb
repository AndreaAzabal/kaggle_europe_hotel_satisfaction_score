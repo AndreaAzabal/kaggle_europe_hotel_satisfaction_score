{
  "nbformat": 4,
  "nbformat_minor": 0,
  "metadata": {
    "colab": {
      "name": "Metyis_ds.ipynb",
      "provenance": [],
      "collapsed_sections": [],
      "toc_visible": true
    },
    "kernelspec": {
      "name": "python3",
      "display_name": "Python 3"
    },
    "language_info": {
      "name": "python"
    }
  },
  "cells": [
    {
      "cell_type": "markdown",
      "metadata": {
        "id": "ZCuFpBc5_nsm"
      },
      "source": [
        "#Metyis: Desafío Científico de Datos#\n",
        "\n",
        "Andrea Azabal Lamoso\n",
        "18/11/2021"
      ]
    },
    {
      "cell_type": "markdown",
      "metadata": {
        "id": "ua_H-pb0gm0N"
      },
      "source": [
        "## 1. Descargar *dataset*"
      ]
    },
    {
      "cell_type": "code",
      "metadata": {
        "id": "4a8ZaEU8tvdh"
      },
      "source": [
        "import pandas as pd\n",
        "import numpy as np\n",
        "import matplotlib.pyplot as plt\n",
        "%matplotlib inline"
      ],
      "execution_count": null,
      "outputs": []
    },
    {
      "cell_type": "code",
      "metadata": {
        "colab": {
          "resources": {
            "http://localhost:8080/nbextensions/google.colab/files.js": {
              "data": "Ly8gQ29weXJpZ2h0IDIwMTcgR29vZ2xlIExMQwovLwovLyBMaWNlbnNlZCB1bmRlciB0aGUgQXBhY2hlIExpY2Vuc2UsIFZlcnNpb24gMi4wICh0aGUgIkxpY2Vuc2UiKTsKLy8geW91IG1heSBub3QgdXNlIHRoaXMgZmlsZSBleGNlcHQgaW4gY29tcGxpYW5jZSB3aXRoIHRoZSBMaWNlbnNlLgovLyBZb3UgbWF5IG9idGFpbiBhIGNvcHkgb2YgdGhlIExpY2Vuc2UgYXQKLy8KLy8gICAgICBodHRwOi8vd3d3LmFwYWNoZS5vcmcvbGljZW5zZXMvTElDRU5TRS0yLjAKLy8KLy8gVW5sZXNzIHJlcXVpcmVkIGJ5IGFwcGxpY2FibGUgbGF3IG9yIGFncmVlZCB0byBpbiB3cml0aW5nLCBzb2Z0d2FyZQovLyBkaXN0cmlidXRlZCB1bmRlciB0aGUgTGljZW5zZSBpcyBkaXN0cmlidXRlZCBvbiBhbiAiQVMgSVMiIEJBU0lTLAovLyBXSVRIT1VUIFdBUlJBTlRJRVMgT1IgQ09ORElUSU9OUyBPRiBBTlkgS0lORCwgZWl0aGVyIGV4cHJlc3Mgb3IgaW1wbGllZC4KLy8gU2VlIHRoZSBMaWNlbnNlIGZvciB0aGUgc3BlY2lmaWMgbGFuZ3VhZ2UgZ292ZXJuaW5nIHBlcm1pc3Npb25zIGFuZAovLyBsaW1pdGF0aW9ucyB1bmRlciB0aGUgTGljZW5zZS4KCi8qKgogKiBAZmlsZW92ZXJ2aWV3IEhlbHBlcnMgZm9yIGdvb2dsZS5jb2xhYiBQeXRob24gbW9kdWxlLgogKi8KKGZ1bmN0aW9uKHNjb3BlKSB7CmZ1bmN0aW9uIHNwYW4odGV4dCwgc3R5bGVBdHRyaWJ1dGVzID0ge30pIHsKICBjb25zdCBlbGVtZW50ID0gZG9jdW1lbnQuY3JlYXRlRWxlbWVudCgnc3BhbicpOwogIGVsZW1lbnQudGV4dENvbnRlbnQgPSB0ZXh0OwogIGZvciAoY29uc3Qga2V5IG9mIE9iamVjdC5rZXlzKHN0eWxlQXR0cmlidXRlcykpIHsKICAgIGVsZW1lbnQuc3R5bGVba2V5XSA9IHN0eWxlQXR0cmlidXRlc1trZXldOwogIH0KICByZXR1cm4gZWxlbWVudDsKfQoKLy8gTWF4IG51bWJlciBvZiBieXRlcyB3aGljaCB3aWxsIGJlIHVwbG9hZGVkIGF0IGEgdGltZS4KY29uc3QgTUFYX1BBWUxPQURfU0laRSA9IDEwMCAqIDEwMjQ7CgpmdW5jdGlvbiBfdXBsb2FkRmlsZXMoaW5wdXRJZCwgb3V0cHV0SWQpIHsKICBjb25zdCBzdGVwcyA9IHVwbG9hZEZpbGVzU3RlcChpbnB1dElkLCBvdXRwdXRJZCk7CiAgY29uc3Qgb3V0cHV0RWxlbWVudCA9IGRvY3VtZW50LmdldEVsZW1lbnRCeUlkKG91dHB1dElkKTsKICAvLyBDYWNoZSBzdGVwcyBvbiB0aGUgb3V0cHV0RWxlbWVudCB0byBtYWtlIGl0IGF2YWlsYWJsZSBmb3IgdGhlIG5leHQgY2FsbAogIC8vIHRvIHVwbG9hZEZpbGVzQ29udGludWUgZnJvbSBQeXRob24uCiAgb3V0cHV0RWxlbWVudC5zdGVwcyA9IHN0ZXBzOwoKICByZXR1cm4gX3VwbG9hZEZpbGVzQ29udGludWUob3V0cHV0SWQpOwp9CgovLyBUaGlzIGlzIHJvdWdobHkgYW4gYXN5bmMgZ2VuZXJhdG9yIChub3Qgc3VwcG9ydGVkIGluIHRoZSBicm93c2VyIHlldCksCi8vIHdoZXJlIHRoZXJlIGFyZSBtdWx0aXBsZSBhc3luY2hyb25vdXMgc3RlcHMgYW5kIHRoZSBQeXRob24gc2lkZSBpcyBnb2luZwovLyB0byBwb2xsIGZvciBjb21wbGV0aW9uIG9mIGVhY2ggc3RlcC4KLy8gVGhpcyB1c2VzIGEgUHJvbWlzZSB0byBibG9jayB0aGUgcHl0aG9uIHNpZGUgb24gY29tcGxldGlvbiBvZiBlYWNoIHN0ZXAsCi8vIHRoZW4gcGFzc2VzIHRoZSByZXN1bHQgb2YgdGhlIHByZXZpb3VzIHN0ZXAgYXMgdGhlIGlucHV0IHRvIHRoZSBuZXh0IHN0ZXAuCmZ1bmN0aW9uIF91cGxvYWRGaWxlc0NvbnRpbnVlKG91dHB1dElkKSB7CiAgY29uc3Qgb3V0cHV0RWxlbWVudCA9IGRvY3VtZW50LmdldEVsZW1lbnRCeUlkKG91dHB1dElkKTsKICBjb25zdCBzdGVwcyA9IG91dHB1dEVsZW1lbnQuc3RlcHM7CgogIGNvbnN0IG5leHQgPSBzdGVwcy5uZXh0KG91dHB1dEVsZW1lbnQubGFzdFByb21pc2VWYWx1ZSk7CiAgcmV0dXJuIFByb21pc2UucmVzb2x2ZShuZXh0LnZhbHVlLnByb21pc2UpLnRoZW4oKHZhbHVlKSA9PiB7CiAgICAvLyBDYWNoZSB0aGUgbGFzdCBwcm9taXNlIHZhbHVlIHRvIG1ha2UgaXQgYXZhaWxhYmxlIHRvIHRoZSBuZXh0CiAgICAvLyBzdGVwIG9mIHRoZSBnZW5lcmF0b3IuCiAgICBvdXRwdXRFbGVtZW50Lmxhc3RQcm9taXNlVmFsdWUgPSB2YWx1ZTsKICAgIHJldHVybiBuZXh0LnZhbHVlLnJlc3BvbnNlOwogIH0pOwp9CgovKioKICogR2VuZXJhdG9yIGZ1bmN0aW9uIHdoaWNoIGlzIGNhbGxlZCBiZXR3ZWVuIGVhY2ggYXN5bmMgc3RlcCBvZiB0aGUgdXBsb2FkCiAqIHByb2Nlc3MuCiAqIEBwYXJhbSB7c3RyaW5nfSBpbnB1dElkIEVsZW1lbnQgSUQgb2YgdGhlIGlucHV0IGZpbGUgcGlja2VyIGVsZW1lbnQuCiAqIEBwYXJhbSB7c3RyaW5nfSBvdXRwdXRJZCBFbGVtZW50IElEIG9mIHRoZSBvdXRwdXQgZGlzcGxheS4KICogQHJldHVybiB7IUl0ZXJhYmxlPCFPYmplY3Q+fSBJdGVyYWJsZSBvZiBuZXh0IHN0ZXBzLgogKi8KZnVuY3Rpb24qIHVwbG9hZEZpbGVzU3RlcChpbnB1dElkLCBvdXRwdXRJZCkgewogIGNvbnN0IGlucHV0RWxlbWVudCA9IGRvY3VtZW50LmdldEVsZW1lbnRCeUlkKGlucHV0SWQpOwogIGlucHV0RWxlbWVudC5kaXNhYmxlZCA9IGZhbHNlOwoKICBjb25zdCBvdXRwdXRFbGVtZW50ID0gZG9jdW1lbnQuZ2V0RWxlbWVudEJ5SWQob3V0cHV0SWQpOwogIG91dHB1dEVsZW1lbnQuaW5uZXJIVE1MID0gJyc7CgogIGNvbnN0IHBpY2tlZFByb21pc2UgPSBuZXcgUHJvbWlzZSgocmVzb2x2ZSkgPT4gewogICAgaW5wdXRFbGVtZW50LmFkZEV2ZW50TGlzdGVuZXIoJ2NoYW5nZScsIChlKSA9PiB7CiAgICAgIHJlc29sdmUoZS50YXJnZXQuZmlsZXMpOwogICAgfSk7CiAgfSk7CgogIGNvbnN0IGNhbmNlbCA9IGRvY3VtZW50LmNyZWF0ZUVsZW1lbnQoJ2J1dHRvbicpOwogIGlucHV0RWxlbWVudC5wYXJlbnRFbGVtZW50LmFwcGVuZENoaWxkKGNhbmNlbCk7CiAgY2FuY2VsLnRleHRDb250ZW50ID0gJ0NhbmNlbCB1cGxvYWQnOwogIGNvbnN0IGNhbmNlbFByb21pc2UgPSBuZXcgUHJvbWlzZSgocmVzb2x2ZSkgPT4gewogICAgY2FuY2VsLm9uY2xpY2sgPSAoKSA9PiB7CiAgICAgIHJlc29sdmUobnVsbCk7CiAgICB9OwogIH0pOwoKICAvLyBXYWl0IGZvciB0aGUgdXNlciB0byBwaWNrIHRoZSBmaWxlcy4KICBjb25zdCBmaWxlcyA9IHlpZWxkIHsKICAgIHByb21pc2U6IFByb21pc2UucmFjZShbcGlja2VkUHJvbWlzZSwgY2FuY2VsUHJvbWlzZV0pLAogICAgcmVzcG9uc2U6IHsKICAgICAgYWN0aW9uOiAnc3RhcnRpbmcnLAogICAgfQogIH07CgogIGNhbmNlbC5yZW1vdmUoKTsKCiAgLy8gRGlzYWJsZSB0aGUgaW5wdXQgZWxlbWVudCBzaW5jZSBmdXJ0aGVyIHBpY2tzIGFyZSBub3QgYWxsb3dlZC4KICBpbnB1dEVsZW1lbnQuZGlzYWJsZWQgPSB0cnVlOwoKICBpZiAoIWZpbGVzKSB7CiAgICByZXR1cm4gewogICAgICByZXNwb25zZTogewogICAgICAgIGFjdGlvbjogJ2NvbXBsZXRlJywKICAgICAgfQogICAgfTsKICB9CgogIGZvciAoY29uc3QgZmlsZSBvZiBmaWxlcykgewogICAgY29uc3QgbGkgPSBkb2N1bWVudC5jcmVhdGVFbGVtZW50KCdsaScpOwogICAgbGkuYXBwZW5kKHNwYW4oZmlsZS5uYW1lLCB7Zm9udFdlaWdodDogJ2JvbGQnfSkpOwogICAgbGkuYXBwZW5kKHNwYW4oCiAgICAgICAgYCgke2ZpbGUudHlwZSB8fCAnbi9hJ30pIC0gJHtmaWxlLnNpemV9IGJ5dGVzLCBgICsKICAgICAgICBgbGFzdCBtb2RpZmllZDogJHsKICAgICAgICAgICAgZmlsZS5sYXN0TW9kaWZpZWREYXRlID8gZmlsZS5sYXN0TW9kaWZpZWREYXRlLnRvTG9jYWxlRGF0ZVN0cmluZygpIDoKICAgICAgICAgICAgICAgICAgICAgICAgICAgICAgICAgICAgJ24vYSd9IC0gYCkpOwogICAgY29uc3QgcGVyY2VudCA9IHNwYW4oJzAlIGRvbmUnKTsKICAgIGxpLmFwcGVuZENoaWxkKHBlcmNlbnQpOwoKICAgIG91dHB1dEVsZW1lbnQuYXBwZW5kQ2hpbGQobGkpOwoKICAgIGNvbnN0IGZpbGVEYXRhUHJvbWlzZSA9IG5ldyBQcm9taXNlKChyZXNvbHZlKSA9PiB7CiAgICAgIGNvbnN0IHJlYWRlciA9IG5ldyBGaWxlUmVhZGVyKCk7CiAgICAgIHJlYWRlci5vbmxvYWQgPSAoZSkgPT4gewogICAgICAgIHJlc29sdmUoZS50YXJnZXQucmVzdWx0KTsKICAgICAgfTsKICAgICAgcmVhZGVyLnJlYWRBc0FycmF5QnVmZmVyKGZpbGUpOwogICAgfSk7CiAgICAvLyBXYWl0IGZvciB0aGUgZGF0YSB0byBiZSByZWFkeS4KICAgIGxldCBmaWxlRGF0YSA9IHlpZWxkIHsKICAgICAgcHJvbWlzZTogZmlsZURhdGFQcm9taXNlLAogICAgICByZXNwb25zZTogewogICAgICAgIGFjdGlvbjogJ2NvbnRpbnVlJywKICAgICAgfQogICAgfTsKCiAgICAvLyBVc2UgYSBjaHVua2VkIHNlbmRpbmcgdG8gYXZvaWQgbWVzc2FnZSBzaXplIGxpbWl0cy4gU2VlIGIvNjIxMTU2NjAuCiAgICBsZXQgcG9zaXRpb24gPSAwOwogICAgZG8gewogICAgICBjb25zdCBsZW5ndGggPSBNYXRoLm1pbihmaWxlRGF0YS5ieXRlTGVuZ3RoIC0gcG9zaXRpb24sIE1BWF9QQVlMT0FEX1NJWkUpOwogICAgICBjb25zdCBjaHVuayA9IG5ldyBVaW50OEFycmF5KGZpbGVEYXRhLCBwb3NpdGlvbiwgbGVuZ3RoKTsKICAgICAgcG9zaXRpb24gKz0gbGVuZ3RoOwoKICAgICAgY29uc3QgYmFzZTY0ID0gYnRvYShTdHJpbmcuZnJvbUNoYXJDb2RlLmFwcGx5KG51bGwsIGNodW5rKSk7CiAgICAgIHlpZWxkIHsKICAgICAgICByZXNwb25zZTogewogICAgICAgICAgYWN0aW9uOiAnYXBwZW5kJywKICAgICAgICAgIGZpbGU6IGZpbGUubmFtZSwKICAgICAgICAgIGRhdGE6IGJhc2U2NCwKICAgICAgICB9LAogICAgICB9OwoKICAgICAgbGV0IHBlcmNlbnREb25lID0gZmlsZURhdGEuYnl0ZUxlbmd0aCA9PT0gMCA/CiAgICAgICAgICAxMDAgOgogICAgICAgICAgTWF0aC5yb3VuZCgocG9zaXRpb24gLyBmaWxlRGF0YS5ieXRlTGVuZ3RoKSAqIDEwMCk7CiAgICAgIHBlcmNlbnQudGV4dENvbnRlbnQgPSBgJHtwZXJjZW50RG9uZX0lIGRvbmVgOwoKICAgIH0gd2hpbGUgKHBvc2l0aW9uIDwgZmlsZURhdGEuYnl0ZUxlbmd0aCk7CiAgfQoKICAvLyBBbGwgZG9uZS4KICB5aWVsZCB7CiAgICByZXNwb25zZTogewogICAgICBhY3Rpb246ICdjb21wbGV0ZScsCiAgICB9CiAgfTsKfQoKc2NvcGUuZ29vZ2xlID0gc2NvcGUuZ29vZ2xlIHx8IHt9OwpzY29wZS5nb29nbGUuY29sYWIgPSBzY29wZS5nb29nbGUuY29sYWIgfHwge307CnNjb3BlLmdvb2dsZS5jb2xhYi5fZmlsZXMgPSB7CiAgX3VwbG9hZEZpbGVzLAogIF91cGxvYWRGaWxlc0NvbnRpbnVlLAp9Owp9KShzZWxmKTsK",
              "ok": true,
              "headers": [
                [
                  "content-type",
                  "application/javascript"
                ]
              ],
              "status": 200,
              "status_text": ""
            }
          },
          "base_uri": "https://localhost:8080/",
          "height": 90
        },
        "id": "yAHCJvIHhAhl",
        "outputId": "d9885583-ec49-469d-f1d1-438121e3cff1"
      },
      "source": [
        "! pip install -q kaggle\n",
        "\n",
        "from google.colab import files\n",
        "\n",
        "files.upload()"
      ],
      "execution_count": null,
      "outputs": [
        {
          "output_type": "display_data",
          "data": {
            "text/html": [
              "\n",
              "     <input type=\"file\" id=\"files-1f8fe03b-c720-4180-96c6-2e1e21d978bb\" name=\"files[]\" multiple disabled\n",
              "        style=\"border:none\" />\n",
              "     <output id=\"result-1f8fe03b-c720-4180-96c6-2e1e21d978bb\">\n",
              "      Upload widget is only available when the cell has been executed in the\n",
              "      current browser session. Please rerun this cell to enable.\n",
              "      </output>\n",
              "      <script src=\"/nbextensions/google.colab/files.js\"></script> "
            ],
            "text/plain": [
              "<IPython.core.display.HTML object>"
            ]
          },
          "metadata": {}
        },
        {
          "output_type": "stream",
          "name": "stdout",
          "text": [
            "Saving kaggle.json to kaggle.json\n"
          ]
        },
        {
          "output_type": "execute_result",
          "data": {
            "text/plain": [
              "{'kaggle.json': b'{\"username\":\"andreaazabal\",\"key\":\"5f6f61a6224d585dab392d472934194a\"}'}"
            ]
          },
          "metadata": {},
          "execution_count": 1
        }
      ]
    },
    {
      "cell_type": "code",
      "metadata": {
        "id": "XUtxmuHJuk_4"
      },
      "source": [
        "! mkdir ~/.kaggle"
      ],
      "execution_count": null,
      "outputs": []
    },
    {
      "cell_type": "code",
      "metadata": {
        "id": "0e2Zf8KUhNLN"
      },
      "source": [
        "! cp kaggle.json ~/.kaggle/"
      ],
      "execution_count": null,
      "outputs": []
    },
    {
      "cell_type": "code",
      "metadata": {
        "id": "h3xPpvauhQNd"
      },
      "source": [
        "! chmod 600 ~/.kaggle/kaggle.json"
      ],
      "execution_count": null,
      "outputs": []
    },
    {
      "cell_type": "code",
      "metadata": {
        "colab": {
          "base_uri": "https://localhost:8080/"
        },
        "id": "gLjXpSGNhTsN",
        "outputId": "32eeba71-df5e-4fdf-a986-628173602dee"
      },
      "source": [
        "! kaggle datasets download -d ishansingh88/europe-hotel-satisfaction-score"
      ],
      "execution_count": null,
      "outputs": [
        {
          "output_type": "stream",
          "name": "stdout",
          "text": [
            "Downloading europe-hotel-satisfaction-score.zip to /content\n",
            "\r  0% 0.00/1.35M [00:00<?, ?B/s]\n",
            "\r100% 1.35M/1.35M [00:00<00:00, 22.2MB/s]\n"
          ]
        }
      ]
    },
    {
      "cell_type": "code",
      "metadata": {
        "colab": {
          "base_uri": "https://localhost:8080/"
        },
        "id": "FuxeIUjVhuM9",
        "outputId": "205fd387-3370-44ef-f02c-722eb7f72b49"
      },
      "source": [
        "! unzip europe-hotel-satisfaction-score.zip"
      ],
      "execution_count": null,
      "outputs": [
        {
          "output_type": "stream",
          "name": "stdout",
          "text": [
            "Archive:  europe-hotel-satisfaction-score.zip\n",
            "  inflating: Europe Hotel Booking Satisfaction Score.csv  \n"
          ]
        }
      ]
    },
    {
      "cell_type": "code",
      "metadata": {
        "colab": {
          "base_uri": "https://localhost:8080/",
          "height": 345
        },
        "id": "cmio7u_CuodZ",
        "outputId": "93f73dcc-b087-488b-a57d-090d04354837"
      },
      "source": [
        "path = \"/content/Europe Hotel Booking Satisfaction Score.csv\"\n",
        "df = pd.read_csv(path, sep=\",\")\n",
        "print(df.shape)\n",
        "df.head()"
      ],
      "execution_count": null,
      "outputs": [
        {
          "output_type": "stream",
          "name": "stdout",
          "text": [
            "(103904, 17)\n"
          ]
        },
        {
          "output_type": "execute_result",
          "data": {
            "text/html": [
              "<div>\n",
              "<style scoped>\n",
              "    .dataframe tbody tr th:only-of-type {\n",
              "        vertical-align: middle;\n",
              "    }\n",
              "\n",
              "    .dataframe tbody tr th {\n",
              "        vertical-align: top;\n",
              "    }\n",
              "\n",
              "    .dataframe thead th {\n",
              "        text-align: right;\n",
              "    }\n",
              "</style>\n",
              "<table border=\"1\" class=\"dataframe\">\n",
              "  <thead>\n",
              "    <tr style=\"text-align: right;\">\n",
              "      <th></th>\n",
              "      <th>id</th>\n",
              "      <th>Gender</th>\n",
              "      <th>Age</th>\n",
              "      <th>purpose_of_travel</th>\n",
              "      <th>Type of Travel</th>\n",
              "      <th>Type Of Booking</th>\n",
              "      <th>Hotel wifi service</th>\n",
              "      <th>Departure/Arrival  convenience</th>\n",
              "      <th>Ease of Online booking</th>\n",
              "      <th>Hotel location</th>\n",
              "      <th>Food and drink</th>\n",
              "      <th>Stay comfort</th>\n",
              "      <th>Common Room entertainment</th>\n",
              "      <th>Checkin/Checkout service</th>\n",
              "      <th>Other service</th>\n",
              "      <th>Cleanliness</th>\n",
              "      <th>satisfaction</th>\n",
              "    </tr>\n",
              "  </thead>\n",
              "  <tbody>\n",
              "    <tr>\n",
              "      <th>0</th>\n",
              "      <td>70172</td>\n",
              "      <td>Male</td>\n",
              "      <td>13</td>\n",
              "      <td>aviation</td>\n",
              "      <td>Personal Travel</td>\n",
              "      <td>Not defined</td>\n",
              "      <td>3</td>\n",
              "      <td>4</td>\n",
              "      <td>3</td>\n",
              "      <td>1</td>\n",
              "      <td>5</td>\n",
              "      <td>5</td>\n",
              "      <td>5</td>\n",
              "      <td>4</td>\n",
              "      <td>5</td>\n",
              "      <td>5</td>\n",
              "      <td>neutral or dissatisfied</td>\n",
              "    </tr>\n",
              "    <tr>\n",
              "      <th>1</th>\n",
              "      <td>5047</td>\n",
              "      <td>Male</td>\n",
              "      <td>25</td>\n",
              "      <td>tourism</td>\n",
              "      <td>Group Travel</td>\n",
              "      <td>Group bookings</td>\n",
              "      <td>3</td>\n",
              "      <td>2</td>\n",
              "      <td>3</td>\n",
              "      <td>3</td>\n",
              "      <td>1</td>\n",
              "      <td>1</td>\n",
              "      <td>1</td>\n",
              "      <td>1</td>\n",
              "      <td>4</td>\n",
              "      <td>1</td>\n",
              "      <td>neutral or dissatisfied</td>\n",
              "    </tr>\n",
              "    <tr>\n",
              "      <th>2</th>\n",
              "      <td>110028</td>\n",
              "      <td>Female</td>\n",
              "      <td>26</td>\n",
              "      <td>tourism</td>\n",
              "      <td>Group Travel</td>\n",
              "      <td>Group bookings</td>\n",
              "      <td>2</td>\n",
              "      <td>2</td>\n",
              "      <td>2</td>\n",
              "      <td>2</td>\n",
              "      <td>5</td>\n",
              "      <td>5</td>\n",
              "      <td>5</td>\n",
              "      <td>4</td>\n",
              "      <td>4</td>\n",
              "      <td>5</td>\n",
              "      <td>satisfied</td>\n",
              "    </tr>\n",
              "    <tr>\n",
              "      <th>3</th>\n",
              "      <td>24026</td>\n",
              "      <td>Female</td>\n",
              "      <td>25</td>\n",
              "      <td>tourism</td>\n",
              "      <td>Group Travel</td>\n",
              "      <td>Group bookings</td>\n",
              "      <td>2</td>\n",
              "      <td>5</td>\n",
              "      <td>5</td>\n",
              "      <td>5</td>\n",
              "      <td>2</td>\n",
              "      <td>2</td>\n",
              "      <td>2</td>\n",
              "      <td>1</td>\n",
              "      <td>4</td>\n",
              "      <td>2</td>\n",
              "      <td>neutral or dissatisfied</td>\n",
              "    </tr>\n",
              "    <tr>\n",
              "      <th>4</th>\n",
              "      <td>119299</td>\n",
              "      <td>Male</td>\n",
              "      <td>61</td>\n",
              "      <td>aviation</td>\n",
              "      <td>Group Travel</td>\n",
              "      <td>Group bookings</td>\n",
              "      <td>3</td>\n",
              "      <td>3</td>\n",
              "      <td>3</td>\n",
              "      <td>3</td>\n",
              "      <td>4</td>\n",
              "      <td>5</td>\n",
              "      <td>3</td>\n",
              "      <td>3</td>\n",
              "      <td>3</td>\n",
              "      <td>3</td>\n",
              "      <td>satisfied</td>\n",
              "    </tr>\n",
              "  </tbody>\n",
              "</table>\n",
              "</div>"
            ],
            "text/plain": [
              "       id  Gender  Age  ... Other service Cleanliness             satisfaction\n",
              "0   70172    Male   13  ...             5           5  neutral or dissatisfied\n",
              "1    5047    Male   25  ...             4           1  neutral or dissatisfied\n",
              "2  110028  Female   26  ...             4           5                satisfied\n",
              "3   24026  Female   25  ...             4           2  neutral or dissatisfied\n",
              "4  119299    Male   61  ...             3           3                satisfied\n",
              "\n",
              "[5 rows x 17 columns]"
            ]
          },
          "metadata": {},
          "execution_count": 12
        }
      ]
    },
    {
      "cell_type": "code",
      "metadata": {
        "colab": {
          "base_uri": "https://localhost:8080/"
        },
        "id": "LaVMZUhY8SRB",
        "outputId": "d225146a-96cd-4e3d-a607-e4860d19c1a2"
      },
      "source": [
        "df.info()"
      ],
      "execution_count": null,
      "outputs": [
        {
          "output_type": "stream",
          "name": "stdout",
          "text": [
            "<class 'pandas.core.frame.DataFrame'>\n",
            "RangeIndex: 103904 entries, 0 to 103903\n",
            "Data columns (total 17 columns):\n",
            " #   Column                          Non-Null Count   Dtype \n",
            "---  ------                          --------------   ----- \n",
            " 0   id                              103904 non-null  int64 \n",
            " 1   Gender                          103904 non-null  object\n",
            " 2   Age                             103904 non-null  int64 \n",
            " 3   purpose_of_travel               103904 non-null  object\n",
            " 4   Type of Travel                  103904 non-null  object\n",
            " 5   Type Of Booking                 103904 non-null  object\n",
            " 6   Hotel wifi service              103904 non-null  int64 \n",
            " 7   Departure/Arrival  convenience  103904 non-null  int64 \n",
            " 8   Ease of Online booking          103904 non-null  int64 \n",
            " 9   Hotel location                  103904 non-null  int64 \n",
            " 10  Food and drink                  103904 non-null  int64 \n",
            " 11  Stay comfort                    103904 non-null  int64 \n",
            " 12  Common Room entertainment       103904 non-null  int64 \n",
            " 13  Checkin/Checkout service        103904 non-null  int64 \n",
            " 14  Other service                   103904 non-null  int64 \n",
            " 15  Cleanliness                     103904 non-null  int64 \n",
            " 16  satisfaction                    103904 non-null  object\n",
            "dtypes: int64(12), object(5)\n",
            "memory usage: 13.5+ MB\n"
          ]
        }
      ]
    },
    {
      "cell_type": "code",
      "metadata": {
        "colab": {
          "base_uri": "https://localhost:8080/"
        },
        "id": "0CrFs3pcTCAr",
        "outputId": "41c4d6f8-6e0d-4c9f-d97e-ea05c0ec15ae"
      },
      "source": [
        "np.sum(df.isnull())"
      ],
      "execution_count": null,
      "outputs": [
        {
          "output_type": "execute_result",
          "data": {
            "text/plain": [
              "id                                0\n",
              "Gender                            0\n",
              "Age                               0\n",
              "purpose_of_travel                 0\n",
              "Type of Travel                    0\n",
              "Type Of Booking                   0\n",
              "Hotel wifi service                0\n",
              "Departure/Arrival  convenience    0\n",
              "Ease of Online booking            0\n",
              "Hotel location                    0\n",
              "Food and drink                    0\n",
              "Stay comfort                      0\n",
              "Common Room entertainment         0\n",
              "Checkin/Checkout service          0\n",
              "Other service                     0\n",
              "Cleanliness                       0\n",
              "satisfaction                      0\n",
              "dtype: int64"
            ]
          },
          "metadata": {},
          "execution_count": 8
        }
      ]
    },
    {
      "cell_type": "markdown",
      "metadata": {
        "id": "uS3OLHyIiKLt"
      },
      "source": [
        "No hay nulos en la base de datos."
      ]
    },
    {
      "cell_type": "code",
      "metadata": {
        "colab": {
          "base_uri": "https://localhost:8080/",
          "height": 335
        },
        "id": "SwdopLHQib4W",
        "outputId": "4cd0f482-1156-4025-8cdb-c55247aa3d6a"
      },
      "source": [
        "df.describe()"
      ],
      "execution_count": null,
      "outputs": [
        {
          "output_type": "execute_result",
          "data": {
            "text/html": [
              "<div>\n",
              "<style scoped>\n",
              "    .dataframe tbody tr th:only-of-type {\n",
              "        vertical-align: middle;\n",
              "    }\n",
              "\n",
              "    .dataframe tbody tr th {\n",
              "        vertical-align: top;\n",
              "    }\n",
              "\n",
              "    .dataframe thead th {\n",
              "        text-align: right;\n",
              "    }\n",
              "</style>\n",
              "<table border=\"1\" class=\"dataframe\">\n",
              "  <thead>\n",
              "    <tr style=\"text-align: right;\">\n",
              "      <th></th>\n",
              "      <th>id</th>\n",
              "      <th>Age</th>\n",
              "      <th>Hotel wifi service</th>\n",
              "      <th>Departure/Arrival  convenience</th>\n",
              "      <th>Ease of Online booking</th>\n",
              "      <th>Hotel location</th>\n",
              "      <th>Food and drink</th>\n",
              "      <th>Stay comfort</th>\n",
              "      <th>Common Room entertainment</th>\n",
              "      <th>Checkin/Checkout service</th>\n",
              "      <th>Other service</th>\n",
              "      <th>Cleanliness</th>\n",
              "    </tr>\n",
              "  </thead>\n",
              "  <tbody>\n",
              "    <tr>\n",
              "      <th>count</th>\n",
              "      <td>103904.000000</td>\n",
              "      <td>103904.000000</td>\n",
              "      <td>103904.000000</td>\n",
              "      <td>103904.000000</td>\n",
              "      <td>103904.000000</td>\n",
              "      <td>103904.000000</td>\n",
              "      <td>103904.000000</td>\n",
              "      <td>103904.000000</td>\n",
              "      <td>103904.000000</td>\n",
              "      <td>103904.000000</td>\n",
              "      <td>103904.000000</td>\n",
              "      <td>103904.000000</td>\n",
              "    </tr>\n",
              "    <tr>\n",
              "      <th>mean</th>\n",
              "      <td>64924.210502</td>\n",
              "      <td>39.379706</td>\n",
              "      <td>2.729683</td>\n",
              "      <td>3.060296</td>\n",
              "      <td>2.756901</td>\n",
              "      <td>2.976883</td>\n",
              "      <td>3.202129</td>\n",
              "      <td>3.439396</td>\n",
              "      <td>3.358158</td>\n",
              "      <td>3.304290</td>\n",
              "      <td>3.640428</td>\n",
              "      <td>3.286351</td>\n",
              "    </tr>\n",
              "    <tr>\n",
              "      <th>std</th>\n",
              "      <td>37463.812252</td>\n",
              "      <td>15.114964</td>\n",
              "      <td>1.327829</td>\n",
              "      <td>1.525075</td>\n",
              "      <td>1.398929</td>\n",
              "      <td>1.277621</td>\n",
              "      <td>1.329533</td>\n",
              "      <td>1.319088</td>\n",
              "      <td>1.332991</td>\n",
              "      <td>1.265396</td>\n",
              "      <td>1.175663</td>\n",
              "      <td>1.312273</td>\n",
              "    </tr>\n",
              "    <tr>\n",
              "      <th>min</th>\n",
              "      <td>1.000000</td>\n",
              "      <td>7.000000</td>\n",
              "      <td>0.000000</td>\n",
              "      <td>0.000000</td>\n",
              "      <td>0.000000</td>\n",
              "      <td>0.000000</td>\n",
              "      <td>0.000000</td>\n",
              "      <td>0.000000</td>\n",
              "      <td>0.000000</td>\n",
              "      <td>0.000000</td>\n",
              "      <td>0.000000</td>\n",
              "      <td>0.000000</td>\n",
              "    </tr>\n",
              "    <tr>\n",
              "      <th>25%</th>\n",
              "      <td>32533.750000</td>\n",
              "      <td>27.000000</td>\n",
              "      <td>2.000000</td>\n",
              "      <td>2.000000</td>\n",
              "      <td>2.000000</td>\n",
              "      <td>2.000000</td>\n",
              "      <td>2.000000</td>\n",
              "      <td>2.000000</td>\n",
              "      <td>2.000000</td>\n",
              "      <td>3.000000</td>\n",
              "      <td>3.000000</td>\n",
              "      <td>2.000000</td>\n",
              "    </tr>\n",
              "    <tr>\n",
              "      <th>50%</th>\n",
              "      <td>64856.500000</td>\n",
              "      <td>40.000000</td>\n",
              "      <td>3.000000</td>\n",
              "      <td>3.000000</td>\n",
              "      <td>3.000000</td>\n",
              "      <td>3.000000</td>\n",
              "      <td>3.000000</td>\n",
              "      <td>4.000000</td>\n",
              "      <td>4.000000</td>\n",
              "      <td>3.000000</td>\n",
              "      <td>4.000000</td>\n",
              "      <td>3.000000</td>\n",
              "    </tr>\n",
              "    <tr>\n",
              "      <th>75%</th>\n",
              "      <td>97368.250000</td>\n",
              "      <td>51.000000</td>\n",
              "      <td>4.000000</td>\n",
              "      <td>4.000000</td>\n",
              "      <td>4.000000</td>\n",
              "      <td>4.000000</td>\n",
              "      <td>4.000000</td>\n",
              "      <td>5.000000</td>\n",
              "      <td>4.000000</td>\n",
              "      <td>4.000000</td>\n",
              "      <td>5.000000</td>\n",
              "      <td>4.000000</td>\n",
              "    </tr>\n",
              "    <tr>\n",
              "      <th>max</th>\n",
              "      <td>129880.000000</td>\n",
              "      <td>85.000000</td>\n",
              "      <td>5.000000</td>\n",
              "      <td>5.000000</td>\n",
              "      <td>5.000000</td>\n",
              "      <td>5.000000</td>\n",
              "      <td>5.000000</td>\n",
              "      <td>5.000000</td>\n",
              "      <td>5.000000</td>\n",
              "      <td>5.000000</td>\n",
              "      <td>5.000000</td>\n",
              "      <td>5.000000</td>\n",
              "    </tr>\n",
              "  </tbody>\n",
              "</table>\n",
              "</div>"
            ],
            "text/plain": [
              "                  id            Age  ...  Other service    Cleanliness\n",
              "count  103904.000000  103904.000000  ...  103904.000000  103904.000000\n",
              "mean    64924.210502      39.379706  ...       3.640428       3.286351\n",
              "std     37463.812252      15.114964  ...       1.175663       1.312273\n",
              "min         1.000000       7.000000  ...       0.000000       0.000000\n",
              "25%     32533.750000      27.000000  ...       3.000000       2.000000\n",
              "50%     64856.500000      40.000000  ...       4.000000       3.000000\n",
              "75%     97368.250000      51.000000  ...       5.000000       4.000000\n",
              "max    129880.000000      85.000000  ...       5.000000       5.000000\n",
              "\n",
              "[8 rows x 12 columns]"
            ]
          },
          "metadata": {},
          "execution_count": 13
        }
      ]
    },
    {
      "cell_type": "markdown",
      "metadata": {
        "id": "mlZs8ePGijvG"
      },
      "source": [
        "No hay valores erróneos: la edad está comprendida entre 7 y 85 años y las puntuaciones entre 0 y 5."
      ]
    },
    {
      "cell_type": "markdown",
      "metadata": {
        "id": "g3cFQdcegvp0"
      },
      "source": [
        "##2. Visualización de los datos"
      ]
    },
    {
      "cell_type": "code",
      "metadata": {
        "id": "MAlUkKlIxcqQ"
      },
      "source": [
        "# Distribution graphs (histogram/bar graph) of column data\n",
        "def plotPerColumnDistribution(df, nGraphShown, nGraphPerRow):\n",
        "    nunique = df.nunique()\n",
        "    df = df[[col for col in df if nunique[col] > 1 and nunique[col] < 50]] # For displaying purposes, pick columns that have between 1 and 50 unique values\n",
        "    nRow, nCol = df.shape\n",
        "    columnNames = list(df)\n",
        "    nGraphRow = (nCol + nGraphPerRow - 1) / nGraphPerRow\n",
        "    plt.figure(num = None, figsize = (6 * nGraphPerRow, 8 * nGraphRow), dpi = 80, facecolor = 'w', edgecolor = 'k')\n",
        "    for i in range(min(nCol, nGraphShown)):\n",
        "        plt.subplot(nGraphRow, nGraphPerRow, i + 1)\n",
        "        columnDf = df.iloc[:, i]\n",
        "        if (not np.issubdtype(type(columnDf.iloc[0]), np.number)):\n",
        "            valueCounts = columnDf.value_counts()\n",
        "            valueCounts.plot.bar()\n",
        "        else:\n",
        "            columnDf.hist()\n",
        "        plt.ylabel('counts')\n",
        "        plt.xticks(rotation = 90)\n",
        "        plt.title(f'{columnNames[i]} (column {i})')\n",
        "    plt.tight_layout(pad = 1.0, w_pad = 1.0, h_pad = 1.0)\n",
        "    plt.show()"
      ],
      "execution_count": null,
      "outputs": []
    },
    {
      "cell_type": "code",
      "metadata": {
        "colab": {
          "base_uri": "https://localhost:8080/",
          "height": 1000
        },
        "id": "sNGGoD4ZBGNl",
        "outputId": "6444e4bf-eb70-4680-e734-27d10eda79db"
      },
      "source": [
        "plotPerColumnDistribution(df, 17, 4)"
      ],
      "execution_count": null,
      "outputs": [
        {
          "output_type": "display_data",
          "data": {
            "image/png": "[encoded data removed]",
            "text/plain": [
              "<Figure size 1920x3040 with 16 Axes>"
            ]
          },
          "metadata": {}
        }
      ]
    },
    {
      "cell_type": "markdown",
      "metadata": {
        "id": "3EQdNonowwY1"
      },
      "source": [
        "Comprobamos que el campo \"tipo de reserva\" presenta un gran número de \"no definidos\", por lo que por simplicidad no se utilizará este campo en los análisis posteriores."
      ]
    },
    {
      "cell_type": "markdown",
      "metadata": {
        "id": "_hw7s_kEizu1"
      },
      "source": [
        "Correlación entre variables numéricas:"
      ]
    },
    {
      "cell_type": "code",
      "metadata": {
        "id": "KjGjyLAKBfFM"
      },
      "source": [
        "# Correlation matrix\n",
        "def plotCorrelationMatrix(df, graphWidth):\n",
        "    df = df.dropna('columns') # drop columns with NaN\n",
        "    df = df[[col for col in df if df[col].nunique() > 1]] # keep columns where there are more than 1 unique values\n",
        "    if df.shape[1] < 2:\n",
        "        print(f'No correlation plots shown: The number of non-NaN or constant columns ({df.shape[1]}) is less than 2')\n",
        "        return\n",
        "    corr = df.corr()\n",
        "    plt.figure(num=None, figsize=(graphWidth, graphWidth), dpi=80, facecolor='w', edgecolor='k')\n",
        "    corrMat = plt.matshow(corr, fignum = 1)\n",
        "    plt.xticks(range(len(corr.columns)), corr.columns, rotation=90)\n",
        "    plt.yticks(range(len(corr.columns)), corr.columns)\n",
        "    plt.gca().xaxis.tick_bottom()\n",
        "    plt.colorbar(corrMat)\n",
        "    plt.title(f'Correlation Matrix', fontsize=15)\n",
        "    plt.show()"
      ],
      "execution_count": null,
      "outputs": []
    },
    {
      "cell_type": "code",
      "metadata": {
        "colab": {
          "base_uri": "https://localhost:8080/",
          "height": 665
        },
        "id": "fvWJH64GBk1U",
        "outputId": "4bab1554-c77a-4b4a-8976-dc3785c71502"
      },
      "source": [
        "plotCorrelationMatrix(df, 8)"
      ],
      "execution_count": null,
      "outputs": [
        {
          "output_type": "display_data",
          "data": {
            "image/png": "[encoded data removed]",
            "text/plain": [
              "<Figure size 640x640 with 2 Axes>"
            ]
          },
          "metadata": {}
        }
      ]
    },
    {
      "cell_type": "markdown",
      "metadata": {
        "id": "TGlU7Gvdi2f2"
      },
      "source": [
        "Se observa que la variable \"Wifi\" está correlacionada con la facilidad de reserva online. También están correlacionadas entre sí la \"limpieza\", la \"comida y bebida\", la \"comodidad de la estancia\" y el \"entretenimiento en la sala común\"."
      ]
    },
    {
      "cell_type": "markdown",
      "metadata": {
        "id": "TBr2ZqvDhfMF"
      },
      "source": [
        "## 3. Preparación de los datos"
      ]
    },
    {
      "cell_type": "markdown",
      "metadata": {
        "id": "IZR2Ix2_tNqu"
      },
      "source": [
        "Eliminar campos innecesarios:"
      ]
    },
    {
      "cell_type": "code",
      "metadata": {
        "id": "K24eC7BkCGrl"
      },
      "source": [
        "# Eliminar id\n",
        "df1=df.copy()\n",
        "df1.drop(columns=['id'], inplace=True)"
      ],
      "execution_count": null,
      "outputs": []
    },
    {
      "cell_type": "markdown",
      "metadata": {
        "id": "W3EM-gNTHJsM"
      },
      "source": [
        "Calcular nota media total de cada cliente:"
      ]
    },
    {
      "cell_type": "code",
      "metadata": {
        "id": "J6a8L1JzGjdN"
      },
      "source": [
        "# Promedio\n",
        "df1['totsas']=df1.iloc[:,4:14].mean(axis=1)"
      ],
      "execution_count": null,
      "outputs": []
    },
    {
      "cell_type": "markdown",
      "metadata": {
        "id": "x6D1PTN2hpGV"
      },
      "source": [
        "Creo grupos para la edad:"
      ]
    },
    {
      "cell_type": "code",
      "metadata": {
        "id": "F0cUwTlNMU8l"
      },
      "source": [
        "bins= [0,18,25,35,45,55,65,120] #cortes en Age\n",
        "labels = ['<18','18-25','25-35','35-45','45-55','55-65','>65'] #etiquetas\n",
        "df1['AgeGroup'] = pd.cut(df['Age'], bins=bins, labels=labels, right=False)\n",
        "df1.drop(columns=['Age'], inplace=True) #elimino la edad"
      ],
      "execution_count": null,
      "outputs": []
    },
    {
      "cell_type": "markdown",
      "metadata": {
        "id": "fsHE7Kxp012F"
      },
      "source": [
        "Como referencia, vemos que la **nota media global del hotel** es:"
      ]
    },
    {
      "cell_type": "code",
      "metadata": {
        "colab": {
          "base_uri": "https://localhost:8080/"
        },
        "id": "aOzgunDc05ft",
        "outputId": "94c6f172-b85e-4c8d-814a-9cd12c19cdb2"
      },
      "source": [
        "df1['totsas'].mean()"
      ],
      "execution_count": null,
      "outputs": [
        {
          "output_type": "execute_result",
          "data": {
            "text/plain": [
              "3.163129213290947"
            ]
          },
          "metadata": {},
          "execution_count": 18
        }
      ]
    },
    {
      "cell_type": "markdown",
      "metadata": {
        "id": "cI_HMI6nhtyI"
      },
      "source": [
        "## 4. Análisis"
      ]
    },
    {
      "cell_type": "markdown",
      "metadata": {
        "id": "UAr3vn2etY8t"
      },
      "source": [
        "Vamos a ver cómo varía la puntuación total para cada grupo de clientes."
      ]
    },
    {
      "cell_type": "markdown",
      "metadata": {
        "id": "ZUs8fCdIiApl"
      },
      "source": [
        "### Género"
      ]
    },
    {
      "cell_type": "code",
      "metadata": {
        "colab": {
          "base_uri": "https://localhost:8080/",
          "height": 143
        },
        "id": "8QC8on_AiDzU",
        "outputId": "f5708a62-fd2b-4385-9af6-a6fb0ce5c6c5"
      },
      "source": [
        "pd.DataFrame(df1.groupby(by=[\"Gender\"])['totsas'].mean('totsas'))"
      ],
      "execution_count": null,
      "outputs": [
        {
          "output_type": "execute_result",
          "data": {
            "text/html": [
              "<div>\n",
              "<style scoped>\n",
              "    .dataframe tbody tr th:only-of-type {\n",
              "        vertical-align: middle;\n",
              "    }\n",
              "\n",
              "    .dataframe tbody tr th {\n",
              "        vertical-align: top;\n",
              "    }\n",
              "\n",
              "    .dataframe thead th {\n",
              "        text-align: right;\n",
              "    }\n",
              "</style>\n",
              "<table border=\"1\" class=\"dataframe\">\n",
              "  <thead>\n",
              "    <tr style=\"text-align: right;\">\n",
              "      <th></th>\n",
              "      <th>totsas</th>\n",
              "    </tr>\n",
              "    <tr>\n",
              "      <th>Gender</th>\n",
              "      <th></th>\n",
              "    </tr>\n",
              "  </thead>\n",
              "  <tbody>\n",
              "    <tr>\n",
              "      <th>Female</th>\n",
              "      <td>3.154747</td>\n",
              "    </tr>\n",
              "    <tr>\n",
              "      <th>Male</th>\n",
              "      <td>3.171766</td>\n",
              "    </tr>\n",
              "  </tbody>\n",
              "</table>\n",
              "</div>"
            ],
            "text/plain": [
              "          totsas\n",
              "Gender          \n",
              "Female  3.154747\n",
              "Male    3.171766"
            ]
          },
          "metadata": {},
          "execution_count": 19
        }
      ]
    },
    {
      "cell_type": "markdown",
      "metadata": {
        "id": "4Y3ye56ztdM0"
      },
      "source": [
        "No hay grandes diferencias en el género."
      ]
    },
    {
      "cell_type": "code",
      "metadata": {
        "colab": {
          "base_uri": "https://localhost:8080/",
          "height": 321
        },
        "id": "OKU03o0-jeds",
        "outputId": "5de43012-ed8e-41ce-a027-4d4525601df7"
      },
      "source": [
        "df1.groupby('Gender')['totsas'].mean().plot.bar()\n",
        "plt.title(\"Satisfación promedio vs género\")\n",
        "plt.xlabel(\"Género\");\n",
        "plt.ylabel(\"Satisfacción promedio\");\n",
        "plt.ylim([2.5,3.5])\n",
        "plt.show()"
      ],
      "execution_count": null,
      "outputs": [
        {
          "output_type": "display_data",
          "data": {
            "image/png": "[encoded data removed]",
            "text/plain": [
              "<Figure size 432x288 with 1 Axes>"
            ]
          },
          "metadata": {
            "needs_background": "light"
          }
        }
      ]
    },
    {
      "cell_type": "markdown",
      "metadata": {
        "id": "75wBZxKshx50"
      },
      "source": [
        "### Edad"
      ]
    },
    {
      "cell_type": "code",
      "metadata": {
        "colab": {
          "base_uri": "https://localhost:8080/",
          "height": 297
        },
        "id": "TD-eD6kwPJ2N",
        "outputId": "15e2634e-f15b-42cb-820f-1ebd5330b265"
      },
      "source": [
        "pd.DataFrame(df1.groupby(by=[\"AgeGroup\"])['totsas'].mean('totsas'))"
      ],
      "execution_count": null,
      "outputs": [
        {
          "output_type": "execute_result",
          "data": {
            "text/html": [
              "<div>\n",
              "<style scoped>\n",
              "    .dataframe tbody tr th:only-of-type {\n",
              "        vertical-align: middle;\n",
              "    }\n",
              "\n",
              "    .dataframe tbody tr th {\n",
              "        vertical-align: top;\n",
              "    }\n",
              "\n",
              "    .dataframe thead th {\n",
              "        text-align: right;\n",
              "    }\n",
              "</style>\n",
              "<table border=\"1\" class=\"dataframe\">\n",
              "  <thead>\n",
              "    <tr style=\"text-align: right;\">\n",
              "      <th></th>\n",
              "      <th>totsas</th>\n",
              "    </tr>\n",
              "    <tr>\n",
              "      <th>AgeGroup</th>\n",
              "      <th></th>\n",
              "    </tr>\n",
              "  </thead>\n",
              "  <tbody>\n",
              "    <tr>\n",
              "      <th>&lt;18</th>\n",
              "      <td>3.053111</td>\n",
              "    </tr>\n",
              "    <tr>\n",
              "      <th>18-25</th>\n",
              "      <td>3.063007</td>\n",
              "    </tr>\n",
              "    <tr>\n",
              "      <th>25-35</th>\n",
              "      <td>3.109798</td>\n",
              "    </tr>\n",
              "    <tr>\n",
              "      <th>35-45</th>\n",
              "      <td>3.196295</td>\n",
              "    </tr>\n",
              "    <tr>\n",
              "      <th>45-55</th>\n",
              "      <td>3.264904</td>\n",
              "    </tr>\n",
              "    <tr>\n",
              "      <th>55-65</th>\n",
              "      <td>3.210285</td>\n",
              "    </tr>\n",
              "    <tr>\n",
              "      <th>&gt;65</th>\n",
              "      <td>3.051601</td>\n",
              "    </tr>\n",
              "  </tbody>\n",
              "</table>\n",
              "</div>"
            ],
            "text/plain": [
              "            totsas\n",
              "AgeGroup          \n",
              "<18       3.053111\n",
              "18-25     3.063007\n",
              "25-35     3.109798\n",
              "35-45     3.196295\n",
              "45-55     3.264904\n",
              "55-65     3.210285\n",
              ">65       3.051601"
            ]
          },
          "metadata": {},
          "execution_count": 170
        }
      ]
    },
    {
      "cell_type": "markdown",
      "metadata": {
        "id": "loI3vvk4tgLt"
      },
      "source": [
        "Los grupos que mayor disatisfacción muestran son los muy jóvenes (<18 años) y los muy mayores (>65 años)."
      ]
    },
    {
      "cell_type": "code",
      "metadata": {
        "colab": {
          "base_uri": "https://localhost:8080/",
          "height": 314
        },
        "id": "Qk4VEZbf3bee",
        "outputId": "5f7ef944-86cb-4e55-818e-0acc3329def1"
      },
      "source": [
        "df1.groupby('AgeGroup')['totsas'].mean().plot.bar()\n",
        "plt.title(\"Satisfación promedio vs edad\")\n",
        "plt.xlabel(\"Edad\");\n",
        "plt.ylabel(\"Satisfacción promedio\");\n",
        "plt.ylim([2.5,3.5])\n",
        "plt.show()"
      ],
      "execution_count": null,
      "outputs": [
        {
          "output_type": "display_data",
          "data": {
            "image/png": "[encoded data removed]",
            "text/plain": [
              "<Figure size 432x288 with 1 Axes>"
            ]
          },
          "metadata": {
            "needs_background": "light"
          }
        }
      ]
    },
    {
      "cell_type": "markdown",
      "metadata": {
        "id": "eCyAAZhNh0_l"
      },
      "source": [
        "### Motivo del viaje"
      ]
    },
    {
      "cell_type": "code",
      "metadata": {
        "colab": {
          "base_uri": "https://localhost:8080/",
          "height": 235
        },
        "id": "wTBIg2n2QXBt",
        "outputId": "0448869c-7ca2-47d5-ba99-09848de7a77c"
      },
      "source": [
        "pd.DataFrame(df1.groupby(by=[\"purpose_of_travel\"])['totsas'].mean('totsas'))"
      ],
      "execution_count": null,
      "outputs": [
        {
          "output_type": "execute_result",
          "data": {
            "text/html": [
              "<div>\n",
              "<style scoped>\n",
              "    .dataframe tbody tr th:only-of-type {\n",
              "        vertical-align: middle;\n",
              "    }\n",
              "\n",
              "    .dataframe tbody tr th {\n",
              "        vertical-align: top;\n",
              "    }\n",
              "\n",
              "    .dataframe thead th {\n",
              "        text-align: right;\n",
              "    }\n",
              "</style>\n",
              "<table border=\"1\" class=\"dataframe\">\n",
              "  <thead>\n",
              "    <tr style=\"text-align: right;\">\n",
              "      <th></th>\n",
              "      <th>totsas</th>\n",
              "    </tr>\n",
              "    <tr>\n",
              "      <th>purpose_of_travel</th>\n",
              "      <th></th>\n",
              "    </tr>\n",
              "  </thead>\n",
              "  <tbody>\n",
              "    <tr>\n",
              "      <th>academic</th>\n",
              "      <td>3.183423</td>\n",
              "    </tr>\n",
              "    <tr>\n",
              "      <th>aviation</th>\n",
              "      <td>3.166330</td>\n",
              "    </tr>\n",
              "    <tr>\n",
              "      <th>business</th>\n",
              "      <td>3.179056</td>\n",
              "    </tr>\n",
              "    <tr>\n",
              "      <th>personal</th>\n",
              "      <td>3.176623</td>\n",
              "    </tr>\n",
              "    <tr>\n",
              "      <th>tourism</th>\n",
              "      <td>3.169884</td>\n",
              "    </tr>\n",
              "  </tbody>\n",
              "</table>\n",
              "</div>"
            ],
            "text/plain": [
              "                     totsas\n",
              "purpose_of_travel          \n",
              "academic           3.183423\n",
              "aviation           3.166330\n",
              "business           3.179056\n",
              "personal           3.176623\n",
              "tourism            3.169884"
            ]
          },
          "metadata": {},
          "execution_count": 80
        }
      ]
    },
    {
      "cell_type": "markdown",
      "metadata": {
        "id": "HQkVsBGeto9O"
      },
      "source": [
        "No hay grandes discrepancias entre estas categorías."
      ]
    },
    {
      "cell_type": "code",
      "metadata": {
        "colab": {
          "base_uri": "https://localhost:8080/",
          "height": 334
        },
        "id": "hyCeOOOC3lxo",
        "outputId": "c577cfd9-06eb-40ab-b037-938bec34326b"
      },
      "source": [
        "df1.groupby('purpose_of_travel')['totsas'].mean().plot.bar()\n",
        "plt.title(\"Satisfación promedio vs Propósito del viaje\")\n",
        "plt.xlabel(\"Propósito del viaje\");\n",
        "plt.ylabel(\"Satisfacción promedio\");\n",
        "plt.ylim([2.5,3.5])\n",
        "\n",
        "plt.show()"
      ],
      "execution_count": null,
      "outputs": [
        {
          "output_type": "display_data",
          "data": {
            "image/png": "[encoded data removed]",
            "text/plain": [
              "<Figure size 432x288 with 1 Axes>"
            ]
          },
          "metadata": {
            "needs_background": "light"
          }
        }
      ]
    },
    {
      "cell_type": "markdown",
      "metadata": {
        "id": "EkSdLPulh4Bl"
      },
      "source": [
        "### Tipo de viaje"
      ]
    },
    {
      "cell_type": "code",
      "metadata": {
        "colab": {
          "base_uri": "https://localhost:8080/",
          "height": 142
        },
        "id": "ee4r8hj2QmNM",
        "outputId": "a40e0c1b-7b91-4880-b176-b681a37cbaed"
      },
      "source": [
        "pd.DataFrame(df1.groupby(by=[\"Type of Travel\"])['totsas'].mean('totsas'))"
      ],
      "execution_count": null,
      "outputs": [
        {
          "output_type": "execute_result",
          "data": {
            "text/html": [
              "<div>\n",
              "<style scoped>\n",
              "    .dataframe tbody tr th:only-of-type {\n",
              "        vertical-align: middle;\n",
              "    }\n",
              "\n",
              "    .dataframe tbody tr th {\n",
              "        vertical-align: top;\n",
              "    }\n",
              "\n",
              "    .dataframe thead th {\n",
              "        text-align: right;\n",
              "    }\n",
              "</style>\n",
              "<table border=\"1\" class=\"dataframe\">\n",
              "  <thead>\n",
              "    <tr style=\"text-align: right;\">\n",
              "      <th></th>\n",
              "      <th>totsas</th>\n",
              "    </tr>\n",
              "    <tr>\n",
              "      <th>Type of Travel</th>\n",
              "      <th></th>\n",
              "    </tr>\n",
              "  </thead>\n",
              "  <tbody>\n",
              "    <tr>\n",
              "      <th>Group Travel</th>\n",
              "      <td>3.210650</td>\n",
              "    </tr>\n",
              "    <tr>\n",
              "      <th>Personal Travel</th>\n",
              "      <td>3.097243</td>\n",
              "    </tr>\n",
              "  </tbody>\n",
              "</table>\n",
              "</div>"
            ],
            "text/plain": [
              "                   totsas\n",
              "Type of Travel           \n",
              "Group Travel     3.210650\n",
              "Personal Travel  3.097243"
            ]
          },
          "metadata": {},
          "execution_count": 144
        }
      ]
    },
    {
      "cell_type": "markdown",
      "metadata": {
        "id": "4Zg6GANjtyg9"
      },
      "source": [
        "Vemos que los viajes personales presentan peores puntuaciones. Si profundizamos en este resultado y dividimos por edad, vemos que los más jóvenes y los más mayores invierten la tendencia, pues para estos dos subgrupos los viajes grupales son menos satisfactorios:"
      ]
    },
    {
      "cell_type": "code",
      "metadata": {
        "colab": {
          "base_uri": "https://localhost:8080/",
          "height": 514
        },
        "id": "31K830irire1",
        "outputId": "ba1efe88-85ff-407a-d602-d5fb9a98b082"
      },
      "source": [
        "pd.DataFrame(df1.groupby(by=[\"AgeGroup\",\"Type of Travel\"])['totsas'].mean('totsas'))"
      ],
      "execution_count": null,
      "outputs": [
        {
          "output_type": "execute_result",
          "data": {
            "text/html": [
              "<div>\n",
              "<style scoped>\n",
              "    .dataframe tbody tr th:only-of-type {\n",
              "        vertical-align: middle;\n",
              "    }\n",
              "\n",
              "    .dataframe tbody tr th {\n",
              "        vertical-align: top;\n",
              "    }\n",
              "\n",
              "    .dataframe thead th {\n",
              "        text-align: right;\n",
              "    }\n",
              "</style>\n",
              "<table border=\"1\" class=\"dataframe\">\n",
              "  <thead>\n",
              "    <tr style=\"text-align: right;\">\n",
              "      <th></th>\n",
              "      <th></th>\n",
              "      <th>totsas</th>\n",
              "    </tr>\n",
              "    <tr>\n",
              "      <th>AgeGroup</th>\n",
              "      <th>Type of Travel</th>\n",
              "      <th></th>\n",
              "    </tr>\n",
              "  </thead>\n",
              "  <tbody>\n",
              "    <tr>\n",
              "      <th rowspan=\"2\" valign=\"top\">&lt;18</th>\n",
              "      <th>Group Travel</th>\n",
              "      <td>3.006818</td>\n",
              "    </tr>\n",
              "    <tr>\n",
              "      <th>Personal Travel</th>\n",
              "      <td>3.070916</td>\n",
              "    </tr>\n",
              "    <tr>\n",
              "      <th rowspan=\"2\" valign=\"top\">18-25</th>\n",
              "      <th>Group Travel</th>\n",
              "      <td>3.069989</td>\n",
              "    </tr>\n",
              "    <tr>\n",
              "      <th>Personal Travel</th>\n",
              "      <td>3.078524</td>\n",
              "    </tr>\n",
              "    <tr>\n",
              "      <th rowspan=\"2\" valign=\"top\">25-35</th>\n",
              "      <th>Group Travel</th>\n",
              "      <td>3.139018</td>\n",
              "    </tr>\n",
              "    <tr>\n",
              "      <th>Personal Travel</th>\n",
              "      <td>3.084727</td>\n",
              "    </tr>\n",
              "    <tr>\n",
              "      <th rowspan=\"2\" valign=\"top\">35-45</th>\n",
              "      <th>Group Travel</th>\n",
              "      <td>3.233788</td>\n",
              "    </tr>\n",
              "    <tr>\n",
              "      <th>Personal Travel</th>\n",
              "      <td>3.111512</td>\n",
              "    </tr>\n",
              "    <tr>\n",
              "      <th rowspan=\"2\" valign=\"top\">45-55</th>\n",
              "      <th>Group Travel</th>\n",
              "      <td>3.331235</td>\n",
              "    </tr>\n",
              "    <tr>\n",
              "      <th>Personal Travel</th>\n",
              "      <td>3.120914</td>\n",
              "    </tr>\n",
              "    <tr>\n",
              "      <th rowspan=\"2\" valign=\"top\">55-65</th>\n",
              "      <th>Group Travel</th>\n",
              "      <td>3.290773</td>\n",
              "    </tr>\n",
              "    <tr>\n",
              "      <th>Personal Travel</th>\n",
              "      <td>3.103556</td>\n",
              "    </tr>\n",
              "    <tr>\n",
              "      <th rowspan=\"2\" valign=\"top\">&gt;65</th>\n",
              "      <th>Group Travel</th>\n",
              "      <td>2.954199</td>\n",
              "    </tr>\n",
              "    <tr>\n",
              "      <th>Personal Travel</th>\n",
              "      <td>3.116172</td>\n",
              "    </tr>\n",
              "  </tbody>\n",
              "</table>\n",
              "</div>"
            ],
            "text/plain": [
              "                            totsas\n",
              "AgeGroup Type of Travel           \n",
              "<18      Group Travel     3.006818\n",
              "         Personal Travel  3.070916\n",
              "18-25    Group Travel     3.069989\n",
              "         Personal Travel  3.078524\n",
              "25-35    Group Travel     3.139018\n",
              "         Personal Travel  3.084727\n",
              "35-45    Group Travel     3.233788\n",
              "         Personal Travel  3.111512\n",
              "45-55    Group Travel     3.331235\n",
              "         Personal Travel  3.120914\n",
              "55-65    Group Travel     3.290773\n",
              "         Personal Travel  3.103556\n",
              ">65      Group Travel     2.954199\n",
              "         Personal Travel  3.116172"
            ]
          },
          "metadata": {},
          "execution_count": 86
        }
      ]
    },
    {
      "cell_type": "code",
      "metadata": {
        "colab": {
          "base_uri": "https://localhost:8080/",
          "height": 314
        },
        "id": "Y-YtMHqnzOGq",
        "outputId": "7f021f1d-5b17-4bdc-83f3-4e2835412541"
      },
      "source": [
        "df1.groupby(by=[\"AgeGroup\",\"Type of Travel\"])['totsas'].mean('totsas').unstack().plot(kind='bar')\n",
        "\n",
        "plt.title(\"Satisfación promedio vs tipo de viaje y edad\")\n",
        "plt.ylabel(\"Satisfacción Promedio\");\n",
        "plt.ylim([2.5,3.5])\n",
        "\n",
        "plt.show()"
      ],
      "execution_count": null,
      "outputs": [
        {
          "output_type": "display_data",
          "data": {
            "image/png": "[encoded data removed]",
            "text/plain": [
              "<Figure size 432x288 with 1 Axes>"
            ]
          },
          "metadata": {
            "needs_background": "light"
          }
        }
      ]
    },
    {
      "cell_type": "markdown",
      "metadata": {
        "id": "-bItHLWTiLM0"
      },
      "source": [
        "### 10 peores grupos\n",
        "\n",
        "Si obtenemos los 10 grupos menos satisfechos en función del género, edad, tipo de viaje y propósito del viaje y calculamos los estadísticos más relevantes:"
      ]
    },
    {
      "cell_type": "code",
      "metadata": {
        "id": "dWJkXxS8phcd"
      },
      "source": [
        "satisfaction=pd.DataFrame(df1.groupby(by=[\"Gender\", \"AgeGroup\", \"purpose_of_travel\", \"Type of Travel\"])['totsas'].agg(['count','mean', 'min', 'std', 'max'])).copy()"
      ],
      "execution_count": null,
      "outputs": []
    },
    {
      "cell_type": "code",
      "metadata": {
        "colab": {
          "base_uri": "https://localhost:8080/",
          "height": 394
        },
        "id": "u9MPPUgVO0nl",
        "outputId": "02aab297-c076-4613-a636-3e22e72bbb24"
      },
      "source": [
        "satisfaction.sort_values(by='mean').head(10)"
      ],
      "execution_count": null,
      "outputs": [
        {
          "output_type": "execute_result",
          "data": {
            "text/html": [
              "<div>\n",
              "<style scoped>\n",
              "    .dataframe tbody tr th:only-of-type {\n",
              "        vertical-align: middle;\n",
              "    }\n",
              "\n",
              "    .dataframe tbody tr th {\n",
              "        vertical-align: top;\n",
              "    }\n",
              "\n",
              "    .dataframe thead th {\n",
              "        text-align: right;\n",
              "    }\n",
              "</style>\n",
              "<table border=\"1\" class=\"dataframe\">\n",
              "  <thead>\n",
              "    <tr style=\"text-align: right;\">\n",
              "      <th></th>\n",
              "      <th></th>\n",
              "      <th></th>\n",
              "      <th></th>\n",
              "      <th>count</th>\n",
              "      <th>mean</th>\n",
              "      <th>min</th>\n",
              "      <th>std</th>\n",
              "      <th>max</th>\n",
              "    </tr>\n",
              "    <tr>\n",
              "      <th>Gender</th>\n",
              "      <th>AgeGroup</th>\n",
              "      <th>purpose_of_travel</th>\n",
              "      <th>Type of Travel</th>\n",
              "      <th></th>\n",
              "      <th></th>\n",
              "      <th></th>\n",
              "      <th></th>\n",
              "      <th></th>\n",
              "    </tr>\n",
              "  </thead>\n",
              "  <tbody>\n",
              "    <tr>\n",
              "      <th>Female</th>\n",
              "      <th>&gt;65</th>\n",
              "      <th>aviation</th>\n",
              "      <th>Group Travel</th>\n",
              "      <td>114</td>\n",
              "      <td>2.757310</td>\n",
              "      <td>1.555556</td>\n",
              "      <td>0.656022</td>\n",
              "      <td>4.555556</td>\n",
              "    </tr>\n",
              "    <tr>\n",
              "      <th>Male</th>\n",
              "      <th>&gt;65</th>\n",
              "      <th>aviation</th>\n",
              "      <th>Group Travel</th>\n",
              "      <td>99</td>\n",
              "      <td>2.873176</td>\n",
              "      <td>1.333333</td>\n",
              "      <td>0.719559</td>\n",
              "      <td>4.666667</td>\n",
              "    </tr>\n",
              "    <tr>\n",
              "      <th rowspan=\"2\" valign=\"top\">Female</th>\n",
              "      <th>&gt;65</th>\n",
              "      <th>tourism</th>\n",
              "      <th>Group Travel</th>\n",
              "      <td>301</td>\n",
              "      <td>2.923219</td>\n",
              "      <td>1.333333</td>\n",
              "      <td>0.702385</td>\n",
              "      <td>4.666667</td>\n",
              "    </tr>\n",
              "    <tr>\n",
              "      <th>&lt;18</th>\n",
              "      <th>personal</th>\n",
              "      <th>Group Travel</th>\n",
              "      <td>110</td>\n",
              "      <td>2.929293</td>\n",
              "      <td>1.333333</td>\n",
              "      <td>0.705259</td>\n",
              "      <td>4.333333</td>\n",
              "    </tr>\n",
              "    <tr>\n",
              "      <th rowspan=\"2\" valign=\"top\">Male</th>\n",
              "      <th>&gt;65</th>\n",
              "      <th>business</th>\n",
              "      <th>Group Travel</th>\n",
              "      <td>168</td>\n",
              "      <td>2.932540</td>\n",
              "      <td>1.111111</td>\n",
              "      <td>0.720907</td>\n",
              "      <td>4.888889</td>\n",
              "    </tr>\n",
              "    <tr>\n",
              "      <th>&lt;18</th>\n",
              "      <th>tourism</th>\n",
              "      <th>Group Travel</th>\n",
              "      <td>350</td>\n",
              "      <td>2.943175</td>\n",
              "      <td>1.333333</td>\n",
              "      <td>0.673305</td>\n",
              "      <td>4.777778</td>\n",
              "    </tr>\n",
              "    <tr>\n",
              "      <th rowspan=\"2\" valign=\"top\">Female</th>\n",
              "      <th>&gt;65</th>\n",
              "      <th>business</th>\n",
              "      <th>Group Travel</th>\n",
              "      <td>174</td>\n",
              "      <td>2.952746</td>\n",
              "      <td>1.333333</td>\n",
              "      <td>0.667764</td>\n",
              "      <td>4.333333</td>\n",
              "    </tr>\n",
              "    <tr>\n",
              "      <th>&lt;18</th>\n",
              "      <th>academic</th>\n",
              "      <th>Group Travel</th>\n",
              "      <td>304</td>\n",
              "      <td>2.966009</td>\n",
              "      <td>1.444444</td>\n",
              "      <td>0.664234</td>\n",
              "      <td>5.000000</td>\n",
              "    </tr>\n",
              "    <tr>\n",
              "      <th rowspan=\"2\" valign=\"top\">Male</th>\n",
              "      <th>&gt;65</th>\n",
              "      <th>personal</th>\n",
              "      <th>Group Travel</th>\n",
              "      <td>74</td>\n",
              "      <td>2.972973</td>\n",
              "      <td>1.333333</td>\n",
              "      <td>0.670918</td>\n",
              "      <td>4.777778</td>\n",
              "    </tr>\n",
              "    <tr>\n",
              "      <th>&lt;18</th>\n",
              "      <th>aviation</th>\n",
              "      <th>Group Travel</th>\n",
              "      <td>134</td>\n",
              "      <td>2.980929</td>\n",
              "      <td>1.444444</td>\n",
              "      <td>0.732673</td>\n",
              "      <td>4.888889</td>\n",
              "    </tr>\n",
              "  </tbody>\n",
              "</table>\n",
              "</div>"
            ],
            "text/plain": [
              "                                                  count  ...       max\n",
              "Gender AgeGroup purpose_of_travel Type of Travel         ...          \n",
              "Female >65      aviation          Group Travel      114  ...  4.555556\n",
              "Male   >65      aviation          Group Travel       99  ...  4.666667\n",
              "Female >65      tourism           Group Travel      301  ...  4.666667\n",
              "       <18      personal          Group Travel      110  ...  4.333333\n",
              "Male   >65      business          Group Travel      168  ...  4.888889\n",
              "       <18      tourism           Group Travel      350  ...  4.777778\n",
              "Female >65      business          Group Travel      174  ...  4.333333\n",
              "       <18      academic          Group Travel      304  ...  5.000000\n",
              "Male   >65      personal          Group Travel       74  ...  4.777778\n",
              "       <18      aviation          Group Travel      134  ...  4.888889\n",
              "\n",
              "[10 rows x 5 columns]"
            ]
          },
          "metadata": {},
          "execution_count": 24
        }
      ]
    },
    {
      "cell_type": "markdown",
      "metadata": {
        "id": "HCUm0LrMkmDN"
      },
      "source": [
        "Estos 10 peores grupos únicamente suponen un 1.76% de la muestra total:"
      ]
    },
    {
      "cell_type": "code",
      "metadata": {
        "colab": {
          "base_uri": "https://localhost:8080/"
        },
        "id": "IxxEKWqIkI4z",
        "outputId": "11b9e35c-3402-4aff-f444-36c4c60ce36b"
      },
      "source": [
        "(pd.DataFrame(satisfaction.sort_values(by='mean').head(10))['count'].sum())/len(df1)*100"
      ],
      "execution_count": null,
      "outputs": [
        {
          "output_type": "execute_result",
          "data": {
            "text/plain": [
              "1.759316291961811"
            ]
          },
          "metadata": {},
          "execution_count": 28
        }
      ]
    },
    {
      "cell_type": "markdown",
      "metadata": {
        "id": "Y56q6ggUuUWd"
      },
      "source": [
        "Por tanto, con el objetivo de aumentar el *target*, vamos a ser más flexibles con el criterio de selección del grupo de insatisfechos. \n",
        "\n",
        "Comprobamos que hay mucha diversidad en el propósito del viaje, por lo que no vamos a seleccionar este campo ni tampoco el género por no considerarlos relevantes. Así, se llega a la conclusión de que **los clientes menos satisfechos son aquellos que viajan en grupo y bien son menores de 18 años o bien son mayores de 65 años**."
      ]
    },
    {
      "cell_type": "markdown",
      "metadata": {
        "id": "oNbbjRIyuuY1"
      },
      "source": [
        "Nos quedamos con este subgrupo del *dataset*, que contiene 4030 registros."
      ]
    },
    {
      "cell_type": "code",
      "metadata": {
        "id": "apVaNmRqkfDM"
      },
      "source": [
        "no_satis=df1[((df1.AgeGroup=='>65') | (df1.AgeGroup=='<18')) & (df1['Type of Travel']=='Group Travel')].copy()"
      ],
      "execution_count": null,
      "outputs": []
    },
    {
      "cell_type": "code",
      "metadata": {
        "colab": {
          "base_uri": "https://localhost:8080/"
        },
        "id": "2KDN5l3WqaOO",
        "outputId": "f071ff95-61a7-48b4-b1c8-f6e417e2fcb5"
      },
      "source": [
        "len(no_satis)/len(df1)*100"
      ],
      "execution_count": null,
      "outputs": [
        {
          "output_type": "execute_result",
          "data": {
            "text/plain": [
              "3.8785802279026798"
            ]
          },
          "metadata": {},
          "execution_count": 31
        }
      ]
    },
    {
      "cell_type": "markdown",
      "metadata": {
        "id": "mK0-h2Aiu2VF"
      },
      "source": [
        "Hemos aumentado el tamaño de la submuestra hasta casi un 4%, que sigue siendo relativamente bajo pero por el momento vamos a trabajar sobre este grupo.\n",
        "\n",
        "Procedemos a calcular los promedios de las puntuaciones otorgadas a cada servicio por el grupo de los insatisfechos."
      ]
    },
    {
      "cell_type": "code",
      "metadata": {
        "id": "8bsn4RjwmeTV"
      },
      "source": [
        "resultado=pd.DataFrame([no_satis.iloc[:,4:14].mean()]).T.rename(columns={0: 'Score'}).sort_values(by='Score') #score clientes insatisfechos"
      ],
      "execution_count": null,
      "outputs": []
    },
    {
      "cell_type": "markdown",
      "metadata": {
        "id": "ie0-3XA5vDhF"
      },
      "source": [
        "Es decir, el servicio peor puntuado es el WiFi, seguido de la comodidad en la llegada/salida del hotel."
      ]
    },
    {
      "cell_type": "code",
      "metadata": {
        "colab": {
          "base_uri": "https://localhost:8080/",
          "height": 442
        },
        "id": "D4lfw2gMryr-",
        "outputId": "39a31db9-bb4b-45cf-fcf8-e6b7ffa227e8"
      },
      "source": [
        "resultado['Score'].plot.bar()\n",
        "plt.title(\"Satisfación promedio vs Propósito del viaje\")\n",
        "plt.xlabel(\"Propósito del viaje\");\n",
        "plt.ylabel(\"Satisfacción promedio\");\n",
        "plt.ylim([2.5,3.5])\n",
        "\n",
        "plt.show()"
      ],
      "execution_count": null,
      "outputs": [
        {
          "output_type": "display_data",
          "data": {
            "image/png": "[encoded data removed]",
            "text/plain": [
              "<Figure size 432x288 with 1 Axes>"
            ]
          },
          "metadata": {
            "needs_background": "light"
          }
        }
      ]
    },
    {
      "cell_type": "markdown",
      "metadata": {
        "id": "1b18qwSXvQ81"
      },
      "source": [
        "Vemos las puntuaciones promedio de estos servicios dadas por el resto de clientes (sin incluir el grupo de insatisfechos)."
      ]
    },
    {
      "cell_type": "code",
      "metadata": {
        "colab": {
          "base_uri": "https://localhost:8080/"
        },
        "id": "Nu-Ohv-Fn93F",
        "outputId": "d82b62a9-b995-4bff-e27c-10c8531b9165"
      },
      "source": [
        "new_df = df1.drop(no_satis.index) #score del resto de clientes\n",
        "new_df.mean()"
      ],
      "execution_count": null,
      "outputs": [
        {
          "output_type": "execute_result",
          "data": {
            "text/plain": [
              "Hotel wifi service                2.731041\n",
              "Departure/Arrival  convenience    3.073663\n",
              "Ease of Online booking            2.751647\n",
              "Hotel location                    2.974358\n",
              "Food and drink                    3.208343\n",
              "Stay comfort                      3.453381\n",
              "Common Room entertainment         3.369235\n",
              "Checkin/Checkout service          3.320704\n",
              "Other service                     3.650990\n",
              "Cleanliness                       3.298606\n",
              "totsas                            3.170374\n",
              "dtype: float64"
            ]
          },
          "metadata": {},
          "execution_count": 176
        }
      ]
    },
    {
      "cell_type": "markdown",
      "metadata": {
        "id": "m_8MUHlZvZS8"
      },
      "source": [
        "Comprobamos que, mientras el servicio de WiFi tiene una puntuación similar en ambos grupos, lo cual indica que es un servicio que todos los clientes consideran como malo, la comodidad en la salida/llegada sí que presenta una discrepancia considerable."
      ]
    },
    {
      "cell_type": "code",
      "metadata": {
        "colab": {
          "base_uri": "https://localhost:8080/"
        },
        "id": "skMdOfKeouuN",
        "outputId": "3c9ee5c2-a80a-4867-a290-6c748ca19d9c"
      },
      "source": [
        "new_df['Departure/Arrival  convenience'].mean()"
      ],
      "execution_count": null,
      "outputs": [
        {
          "output_type": "execute_result",
          "data": {
            "text/plain": [
              "3.0736628151470855"
            ]
          },
          "metadata": {},
          "execution_count": 177
        }
      ]
    },
    {
      "cell_type": "markdown",
      "metadata": {
        "id": "nGKlgGpGvuM0"
      },
      "source": [
        "Si el hotel mejorara el servicio de llegada/salida, siendo conservadores suponemos que la puntuación del grupo de insatisfechos alcanzaría el promedio del resto de clientes, es decir, subiría de 2.73 a 3.07. En la realidad, probablemente si este servicio mejora, entonces la puntuación de todos los clientes aumentará, por lo que el promedio final será superior al 3.07 indicado. Esto se traduciría en un aumento de la satisfacción global del hotel.\n",
        "\n",
        "Si realizamos un cálculo simple en el que los clientes insatisfechos modifican su nota a un 3 en este campo:"
      ]
    },
    {
      "cell_type": "code",
      "metadata": {
        "id": "1XwOBVCK1ICl"
      },
      "source": [
        "df2=df1.copy()"
      ],
      "execution_count": null,
      "outputs": []
    },
    {
      "cell_type": "code",
      "metadata": {
        "id": "6KJ3F_kYyje9"
      },
      "source": [
        "df2.loc[((df1.AgeGroup=='>65') | (df1.AgeGroup=='<18')) & (df1['Type of Travel']=='Group Travel'), 'Departure/Arrival convenience']=3 #nueva puntuacion"
      ],
      "execution_count": null,
      "outputs": []
    },
    {
      "cell_type": "markdown",
      "metadata": {
        "id": "yD0YwA55zX4W"
      },
      "source": [
        "El nuevo promedio global pasaría a ser el siguiente:"
      ]
    },
    {
      "cell_type": "code",
      "metadata": {
        "id": "mmizLsfRzRbN"
      },
      "source": [
        "df2['new_totsas']=df1.iloc[:,4:14].mean(axis=1)"
      ],
      "execution_count": null,
      "outputs": []
    },
    {
      "cell_type": "markdown",
      "metadata": {
        "id": "68MD4THk0AiN"
      },
      "source": [
        "La nueva puntuación global promedio es de:"
      ]
    },
    {
      "cell_type": "code",
      "metadata": {
        "colab": {
          "base_uri": "https://localhost:8080/"
        },
        "id": "V2ePcexVz7V_",
        "outputId": "ea0460c8-19ab-4132-b320-0b77fb044a1e"
      },
      "source": [
        "df2['new_totsas'].mean()"
      ],
      "execution_count": null,
      "outputs": [
        {
          "output_type": "execute_result",
          "data": {
            "text/plain": [
              "3.1754513781953086"
            ]
          },
          "metadata": {},
          "execution_count": 62
        }
      ]
    },
    {
      "cell_type": "markdown",
      "metadata": {
        "id": "vSOPye0x1iBF"
      },
      "source": [
        "Que es superior a la original:"
      ]
    },
    {
      "cell_type": "code",
      "metadata": {
        "colab": {
          "base_uri": "https://localhost:8080/"
        },
        "id": "Rbwxja1F0QXd",
        "outputId": "97aaf54b-f707-49f3-b48a-8a50087d1ccd"
      },
      "source": [
        "df1['totsas'].mean()"
      ],
      "execution_count": null,
      "outputs": [
        {
          "output_type": "execute_result",
          "data": {
            "text/plain": [
              "3.163129213290947"
            ]
          },
          "metadata": {},
          "execution_count": 63
        }
      ]
    },
    {
      "cell_type": "markdown",
      "metadata": {
        "id": "-olE77Nv1oRV"
      },
      "source": [
        "##Conclusiones\n",
        "\n",
        "Se ha realizado un análisis sencillo de las valoraciones otorgadas a un hotel por parte de sus clientes con el objetivo de crear una estrategia de mejora en los servicios más relevantes. En primer lugar, se han validado las características del *dataset*, comprobando que no hay necesidad de eliminar *outliers* o realizar grandes correcciones, sino que basta con eliminar algunos campos que no aportan valor al análisis posterior. También se han representado los mismos y sus correlaciones.\n",
        "\n",
        "A continuación, se ha estudiado la puntuación promedio en función de las principales caracterísiticas de cada cliente, obteniéndose los siguientes *insigths*:  \n",
        "\n",
        "- El grupo de clientes más insatisfechos está formado **por menores de 18 años y mayores de 65 años que viajan en grupo**.\n",
        "\n",
        "- Para este grupo, los servicios peor valorados son el **WiFi y la comodidad de llegada/salida al hotel**.\n",
        "\n",
        "- Mejorando la comodidad de llegada/salida al hotel, podría **mejorarse la puntuación promedio global del hotel** (cálculo muy conservador).  \n",
        "\n",
        "Como pasos a llevar a cabo a continuación, se podría:\n",
        "\n",
        "- Buscar **un grupo de insatisfechos de mayor tamaño** (más significativo) cuya mejora en la valoración contribuya de manera más notable a la puntuación global, como podría ser por ejemplo todos los viajeros de tipo personal.\n",
        "\n",
        "- **Mejorar el servicio de Wifi**, ya que es relativamente sencillo y sería muy beneficioso al tratarse del servicio peor valorado del hotel."
      ]
    }
  ]
}